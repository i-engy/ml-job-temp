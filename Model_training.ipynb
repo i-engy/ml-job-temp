{
 "cells": [
  {
   "cell_type": "code",
   "execution_count": 1,
   "metadata": {},
   "outputs": [],
   "source": [
    "from sklearn.datasets import load_iris\n",
    "from sklearn.linear_model import LogisticRegression"
   ]
  },
  {
   "cell_type": "markdown",
   "metadata": {},
   "source": [
    "### Load iris Dataset"
   ]
  },
  {
   "cell_type": "code",
   "execution_count": 2,
   "metadata": {},
   "outputs": [],
   "source": [
    "iris_dict = load_iris()\n",
    "X = iris_dict['data']\n",
    "y = iris_dict['target']"
   ]
  },
  {
   "cell_type": "code",
   "execution_count": 3,
   "metadata": {},
   "outputs": [],
   "source": [
    "# shuffle arrays since y values are in order\n",
    "\n",
    "from sklearn.utils import shuffle\n",
    "X_new, y_new = shuffle(X, y, random_state=0)"
   ]
  },
  {
   "cell_type": "code",
   "execution_count": 4,
   "metadata": {},
   "outputs": [],
   "source": [
    "# Divide samples into train and test "
   ]
  },
  {
   "cell_type": "code",
   "execution_count": 5,
   "metadata": {},
   "outputs": [],
   "source": [
    "n_samples_train = 120 # number of samples for training (--> #samples for testing = len(y_new) - 120 = 30)\n",
    "X_train = X_new[:n_samples_train, :]\n",
    "y_train = y_new[:n_samples_train]\n",
    "\n",
    "X_test = X_new[n_samples_train:, :]\n",
    "y_test = y_new[n_samples_train:]"
   ]
  },
  {
   "cell_type": "markdown",
   "metadata": {},
   "source": [
    "#### Fit logistic regression model"
   ]
  },
  {
   "cell_type": "code",
   "execution_count": null,
   "metadata": {},
   "outputs": [],
   "source": [
    "clf = LogisticRegression()\n",
    "clf.fit(X_train, y_train)"
   ]
  },
  {
   "cell_type": "code",
   "execution_count": 7,
   "metadata": {},
   "outputs": [],
   "source": [
    "y_pred = clf.predict(X_test)"
   ]
  },
  {
   "cell_type": "markdown",
   "metadata": {},
   "source": [
    "#### Metrics"
   ]
  },
  {
   "cell_type": "code",
   "execution_count": 8,
   "metadata": {},
   "outputs": [],
   "source": [
    "from sklearn.metrics import accuracy_score"
   ]
  },
  {
   "cell_type": "code",
   "execution_count": null,
   "metadata": {},
   "outputs": [],
   "source": [
    "accuracy_score(y_test, y_pred)"
   ]
  },
  {
   "cell_type": "markdown",
   "metadata": {},
   "source": [
    "#### Save Model"
   ]
  },
  {
   "cell_type": "code",
   "execution_count": 10,
   "metadata": {},
   "outputs": [],
   "source": [
    "import pickle"
   ]
  },
  {
   "cell_type": "code",
   "execution_count": 11,
   "metadata": {},
   "outputs": [],
   "source": [
    "with open('container/iris_trained_model.pkl', 'wb') as f:\n",
    "    pickle.dump(clf, f)"
   ]
  },
  {
   "cell_type": "code",
   "execution_count": 12,
   "metadata": {},
   "outputs": [],
   "source": [
    "with open('container/iris_trained_model.pkl', 'rb') as f:\n",
    "    clf_loaded = pickle.load(f)"
   ]
  },
  {
   "cell_type": "code",
   "execution_count": null,
   "metadata": {},
   "outputs": [],
   "source": [
    "clf_loaded"
   ]
  },
  {
   "cell_type": "code",
   "execution_count": null,
   "metadata": {},
   "outputs": [],
   "source": [
    "%%sh\n",
    "\n",
    "algorithm_name=ml-model\n",
    "\n",
    "cd container #your directory with dockerfile and other sm components\n",
    "\n",
    "account=$(aws sts get-caller-identity --query Account --output text)\n",
    "\n",
    "# Region, defaults to us-west-2\n",
    "region=$(aws configure get region)\n",
    "region=${region:-us-west-1}\n",
    "\n",
    "fullname=\"${account}.dkr.ecr.${region}.amazonaws.com/${algorithm_name}:latest\"\n",
    "\n",
    "\n",
    "\n",
    "# If the repository doesn't exist in ECR, create it.\n",
    "aws ecr describe-repositories --repository-names \"${algorithm_name}\" > /dev/null 2>&1\n",
    "\n",
    "if [ $? -ne 0 ]\n",
    "then\n",
    "    aws ecr create-repository --repository-name \"${algorithm_name}\" > /dev/null\n",
    "fi\n",
    "\n",
    "# Get the login command from ECR and execute it directly\n",
    "aws ecr get-login-password --region ${region}|docker login --username AWS --password-stdin ${fullname}\n",
    "\n",
    "# Build the docker image locally with the image name and then push it to ECR\n",
    "# with the full name.\n",
    "\n",
    "docker build  -t ${algorithm_name} .\n",
    "docker tag ${algorithm_name} ${fullname}\n",
    "\n",
    "docker push ${fullname}"
   ]
  },
  {
   "cell_type": "code",
   "execution_count": null,
   "metadata": {},
   "outputs": [],
   "source": [
    "import boto3\n",
    "\n",
    "client = boto3.client('ecs')\n",
    "cluster_name = \"ML-Test\"\n",
    "\n",
    "response = client.create_cluster(\n",
    "    clusterName=cluster_name,\n",
    "    tags=[\n",
    "        {\n",
    "            'key': 'ClusterName',\n",
    "            'value': 'Ml-test'\n",
    "        },\n",
    "    ],\n",
    "    settings=[\n",
    "        {\n",
    "            'name': 'containerInsights',\n",
    "            'value': 'disabled'\n",
    "        },\n",
    "    ],\n",
    "    configuration={\n",
    "        'executeCommandConfiguration': {\n",
    "            'logging': 'NONE'\n",
    "        }\n",
    "    },\n",
    "    capacityProviders=[\n",
    "        'FARGATE',\n",
    "    ]\n",
    ")"
   ]
  },
  {
   "cell_type": "code",
   "execution_count": null,
   "metadata": {},
   "outputs": [],
   "source": [
    "import boto3\n",
    "\n",
    "algorithm_name = \"ml-model\"\n",
    "\n",
    "account_id = boto3.client('sts').get_caller_identity().get('Account')\n",
    "\n",
    "client = boto3.client('ecs')\n",
    "\n",
    "region_name = client.meta.region_name\n",
    "\n",
    "image_name = f\"{account_id}.dkr.ecr.{region_name}.amazonaws.com/{algorithm_name}\"\n",
    "\n",
    "response = client.register_task_definition(\n",
    "    family='Ml-test-td',\n",
    "    executionRoleArn=f\"arn:aws:iam::{account_id}:role/ecsTaskExecutionRole\",\n",
    "    networkMode='awsvpc',\n",
    "    containerDefinitions=[\n",
    "        {\n",
    "            \"name\": \"fargate-app\", \n",
    "            \"image\": image_name, \n",
    "            \"portMappings\": [\n",
    "                {\n",
    "                    \"containerPort\": 80, \n",
    "                    \"hostPort\": 80, \n",
    "                    \"protocol\": \"tcp\"\n",
    "                }\n",
    "            ], \n",
    "            \"essential\": True, \n",
    "            \"entryPoint\": [], \n",
    "            \"command\": [\"null\"],\n",
    "        }\n",
    "    ],\n",
    "    volumes=[],\n",
    "    placementConstraints=[],\n",
    "    requiresCompatibilities=['FARGATE'],\n",
    "    cpu='512',\n",
    "    memory='1024',\n",
    "    tags=[\n",
    "        {\n",
    "            'key': 'TaskDef',\n",
    "            'value': 'Ml-test-td'\n",
    "        },\n",
    "    ]\n",
    ")\n",
    "\n",
    "taskdefarn = response['taskDefinition']['taskDefinitionArn']\n",
    "\n",
    "print(taskdefarn)"
   ]
  },
  {
   "cell_type": "code",
   "execution_count": null,
   "metadata": {},
   "outputs": [],
   "source": [
    "# Run tasks\n",
    "\n",
    "import boto3\n",
    "\n",
    "client = boto3.client('ecs')\n",
    "\n",
    "response = client.run_task(\n",
    "    cluster=cluster_name,\n",
    "    count=1,\n",
    "    taskDefinition=taskdefarn,\n",
    "    launchType='FARGATE',\n",
    "    networkConfiguration={\n",
    "        'awsvpcConfiguration': {\n",
    "            'subnets': [\n",
    "                'subnet-0edafcde18b6c3ebd',\n",
    "            ],\n",
    "            'securityGroups': [\n",
    "                'sg-0859bcea2aa43ecd5',\n",
    "            ],\n",
    "            'assignPublicIp': 'ENABLED'\n",
    "        }\n",
    "    },\n",
    "    tags=[\n",
    "        {\n",
    "            'key': 'TaskDef',\n",
    "            'value': 'Ml-test-td'\n",
    "        },\n",
    "    ]\n",
    ")\n",
    "\n",
    "task_list = []\n",
    "for task in response['tasks']:\n",
    "    task_list.append(task['taskArn'])"
   ]
  },
  {
   "cell_type": "code",
   "execution_count": null,
   "metadata": {},
   "outputs": [],
   "source": [
    "import time\n",
    "\n",
    "def get_service_ips(cluster, tasks):\n",
    "    ecs = boto3.client('ecs')\n",
    "    tasks_detail = ecs.describe_tasks(\n",
    "        cluster=cluster,\n",
    "        tasks=tasks\n",
    "    )\n",
    "    \n",
    "    # first get the ENIs\n",
    "    enis = []\n",
    "    for task in tasks_detail.get(\"tasks\", []):\n",
    "        for attachment in task.get(\"attachments\", []):\n",
    "            for detail in attachment.get(\"details\", []):\n",
    "                if detail.get(\"name\") == \"networkInterfaceId\":\n",
    "                    enis.append(detail.get(\"value\"))\n",
    "   \n",
    "    # now the ips\n",
    "    ips = []\n",
    "    for eni in enis:\n",
    "        eni_resource = boto3.resource(\"ec2\").NetworkInterface(eni)\n",
    "        ips.append(eni_resource.association_attribute.get(\"PublicIp\"))\n",
    "\n",
    "    return ips\n",
    "\n",
    "time.sleep(15)\n",
    "\n",
    "ips = get_service_ips(cluster_name, task_list)\n",
    "print(ips)"
   ]
  },
  {
   "cell_type": "code",
   "execution_count": 5,
   "metadata": {},
   "outputs": [
    {
     "name": "stdout",
     "output_type": "stream",
     "text": [
      "http://13.52.178.48/predict\n",
      "1\n"
     ]
    }
   ],
   "source": [
    "import requests\n",
    "import json\n",
    "\n",
    "\n",
    "\n",
    "\n",
    "# payload = json.dumps([\n",
    "#   2.2,\n",
    "#   3.3,\n",
    "#   4.4,\n",
    "#   1.1\n",
    "# ])\n",
    "\n",
    "payload = json.dumps([\n",
    "  4.4,\n",
    "  1.4,\n",
    "  9.3,\n",
    "  4.2\n",
    "])\n",
    "\n",
    "headers = {\n",
    "  'Content-Type': 'application/json'\n",
    "}\n",
    "\n",
    "for ip in ips:\n",
    "\n",
    "    url = f\"http://{ip}/predict\"\n",
    "\n",
    "    response = requests.request(\"POST\", url, headers=headers, data=payload)\n",
    "\n",
    "    print(response.text)  \n"
   ]
  }
 ],
 "metadata": {
  "kernelspec": {
   "display_name": "Python 3",
   "language": "python",
   "name": "python3"
  },
  "language_info": {
   "codemirror_mode": {
    "name": "ipython",
    "version": 3
   },
   "file_extension": ".py",
   "mimetype": "text/x-python",
   "name": "python",
   "nbconvert_exporter": "python",
   "pygments_lexer": "ipython3",
   "version": "3.9.6"
  }
 },
 "nbformat": 4,
 "nbformat_minor": 2
}
